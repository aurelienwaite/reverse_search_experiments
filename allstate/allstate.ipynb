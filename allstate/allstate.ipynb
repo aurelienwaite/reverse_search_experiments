{
 "cells": [
  {
   "cell_type": "markdown",
   "metadata": {},
   "source": [
    "# Allstate reverse search experiment"
   ]
  },
  {
   "cell_type": "code",
   "execution_count": 1,
   "metadata": {},
   "outputs": [],
   "source": [
    "import polars as pl\n",
    "import polars.selectors as cs\n",
    "from sklearn import cluster\n",
    "import numpy as np\n",
    "import numpy.typing as npt\n",
    "import seaborn as sns\n",
    "from collections import defaultdict\n",
    "from statistics import median\n",
    "import json"
   ]
  },
  {
   "cell_type": "code",
   "execution_count": 59,
   "metadata": {},
   "outputs": [],
   "source": [
    "sample_modulo = 10\n",
    "df = pl.read_csv(\"data/train.csv\", null_values=\"?\")\n",
    "train, validation = df.with_columns((pl.col(\"id\") % sample_modulo == 0).alias(\"split\")).partition_by(\"split\", include_key=False)"
   ]
  },
  {
   "cell_type": "code",
   "execution_count": 3,
   "metadata": {},
   "outputs": [
    {
     "name": "stdout",
     "output_type": "stream",
     "text": [
      "169497 169497 0\n"
     ]
    }
   ],
   "source": [
    "print(len(train), len(train.filter(pl.col(\"loss\") != 0)), len(train.filter(pl.col(\"loss\") == 0)))"
   ]
  },
  {
   "cell_type": "code",
   "execution_count": 3,
   "metadata": {},
   "outputs": [
    {
     "data": {
      "text/html": [
       "<div><style>\n",
       ".dataframe > thead > tr,\n",
       ".dataframe > tbody > tr {\n",
       "  text-align: right;\n",
       "  white-space: pre-wrap;\n",
       "}\n",
       "</style>\n",
       "<small>shape: (9, 2)</small><table border=\"1\" class=\"dataframe\"><thead><tr><th>statistic</th><th>value</th></tr><tr><td>str</td><td>f64</td></tr></thead><tbody><tr><td>&quot;count&quot;</td><td>169497.0</td></tr><tr><td>&quot;null_count&quot;</td><td>0.0</td></tr><tr><td>&quot;mean&quot;</td><td>3038.41521</td></tr><tr><td>&quot;std&quot;</td><td>2906.773527</td></tr><tr><td>&quot;min&quot;</td><td>5.25</td></tr><tr><td>&quot;25%&quot;</td><td>1205.1</td></tr><tr><td>&quot;50%&quot;</td><td>2116.64</td></tr><tr><td>&quot;75%&quot;</td><td>3868.02</td></tr><tr><td>&quot;max&quot;</td><td>121012.25</td></tr></tbody></table></div>"
      ],
      "text/plain": [
       "shape: (9, 2)\n",
       "┌────────────┬─────────────┐\n",
       "│ statistic  ┆ value       │\n",
       "│ ---        ┆ ---         │\n",
       "│ str        ┆ f64         │\n",
       "╞════════════╪═════════════╡\n",
       "│ count      ┆ 169497.0    │\n",
       "│ null_count ┆ 0.0         │\n",
       "│ mean       ┆ 3038.41521  │\n",
       "│ std        ┆ 2906.773527 │\n",
       "│ min        ┆ 5.25        │\n",
       "│ 25%        ┆ 1205.1      │\n",
       "│ 50%        ┆ 2116.64     │\n",
       "│ 75%        ┆ 3868.02     │\n",
       "│ max        ┆ 121012.25   │\n",
       "└────────────┴─────────────┘"
      ]
     },
     "execution_count": 3,
     "metadata": {},
     "output_type": "execute_result"
    }
   ],
   "source": [
    "response = train.filter(pl.col(\"loss\") != 0)[\"loss\"]\n",
    "response.abs().describe()"
   ]
  },
  {
   "cell_type": "code",
   "execution_count": 35,
   "metadata": {},
   "outputs": [],
   "source": [
    "sample = np.log(train[\"loss\"].to_numpy())\n",
    "clustering = cluster.KMeans(n_clusters=50).fit(sample.reshape(-1, 1))"
   ]
  },
  {
   "cell_type": "code",
   "execution_count": 36,
   "metadata": {},
   "outputs": [
    {
     "name": "stdout",
     "output_type": "stream",
     "text": [
      "50 5943\n",
      "0:3624, 1:4813, 2:5866, 3:3416, 4:4998, 5:4064, 6:5896, 7:247, 8:1382, 9:1172, 10:4181, 11:5609, 12:5892, 13:454, 14:5221, 15:11, 16:4323, 17:3981, 18:4572, 19:2148, 20:4214, 21:864, 22:1772, 23:5178, 24:5861, 25:95, 26:5182, 27:5741, 28:185, 29:767, 30:2256, 31:4149, 32:3888, 33:5626, 34:2907, 35:48, 36:5867, 37:5943, 38:33, 39:3888, 40:496, 41:4264, 42:4618, 43:3886, 44:1058, 45:4951, 46:1462, 47:5396, 48:2810, 49:4222, \n",
      "Num of outliers: 3624 0.02138090939662649\n"
     ]
    },
    {
     "data": {
      "text/plain": [
       "<Axes: ylabel='Count'>"
      ]
     },
     "execution_count": 36,
     "metadata": {},
     "output_type": "execute_result"
    },
    {
     "data": {
      "image/png": "[encoded data removed]",
      "text/plain": [
       "<Figure size 640x480 with 1 Axes>"
      ]
     },
     "metadata": {},
     "output_type": "display_data"
    }
   ],
   "source": [
    "unique, counts = np.unique(clustering.labels_, return_counts=True)\n",
    "print(len(unique), np.max(counts))\n",
    "for cluster_id, count in zip(unique, counts):\n",
    "    print(f\"{cluster_id}:{count}\", end=\", \")\n",
    "print()\n",
    "print(f\"Num of outliers: {counts[0]} {counts[0]/len(sample)}\")\n",
    "sns.histplot(clustering.labels_)\n"
   ]
  },
  {
   "cell_type": "code",
   "execution_count": 37,
   "metadata": {},
   "outputs": [
    {
     "data": {
      "text/html": [
       "<div><style>\n",
       ".dataframe > thead > tr,\n",
       ".dataframe > tbody > tr {\n",
       "  text-align: right;\n",
       "  white-space: pre-wrap;\n",
       "}\n",
       "</style>\n",
       "<small>shape: (2, 2)</small><table border=\"1\" class=\"dataframe\"><thead><tr><th>statistic</th><th>value</th></tr><tr><td>str</td><td>f64</td></tr></thead><tbody><tr><td>&quot;count&quot;</td><td>0.0</td></tr><tr><td>&quot;null_count&quot;</td><td>0.0</td></tr></tbody></table></div>"
      ],
      "text/plain": [
       "shape: (2, 2)\n",
       "┌────────────┬───────┐\n",
       "│ statistic  ┆ value │\n",
       "│ ---        ┆ ---   │\n",
       "│ str        ┆ f64   │\n",
       "╞════════════╪═══════╡\n",
       "│ count      ┆ 0.0   │\n",
       "│ null_count ┆ 0.0   │\n",
       "└────────────┴───────┘"
      ]
     },
     "execution_count": 37,
     "metadata": {},
     "output_type": "execute_result"
    }
   ],
   "source": [
    "outliers = [value for value, label in zip(sample, clustering.labels_) if label == -1]\n",
    "outliers = pl.Series(outliers)\n",
    "outliers.describe()"
   ]
  },
  {
   "cell_type": "code",
   "execution_count": 44,
   "metadata": {},
   "outputs": [
    {
     "name": "stdout",
     "output_type": "stream",
     "text": [
      "{6: 2188.3951797829004, 17: 1299.0858452650127, 37: 3010.0179774524663, 12: 2768.390780719611, 4: 5223.500198079242, 43: 1156.7456073082853, 22: 10375.042183972933, 16: 6490.774654175328, 18: 5809.408094925622, 39: 1226.0751466049383, 5: 1087.1219857283452, 34: 607.4198383212934, 31: 1374.8995902627128, 26: 4303.494851408703, 11: 3929.6126528793125, 32: 737.7453137860068, 10: 806.4549892370246, 0: 7293.514795805743, 1: 1552.0334967795566, 23: 4724.6232715334145, 14: 1766.9161386707553, 47: 1891.1251945885826, 36: 2363.131648201804, 8: 11747.100383502164, 33: 3586.6444898684563, 49: 876.2736499289447, 3: 671.9712470725992, 41: 1015.9431355534704, 2: 3280.7859989771573, 42: 1458.9498722390585, 9: 427.5269965870307, 27: 2031.0739017592741, 29: 15821.662985658406, 46: 492.6584062927497, 48: 8220.046387900355, 24: 2555.522004777338, 20: 945.5924323682963, 15: 23.772727272727273, 19: 550.50136405959, 45: 1655.2000302969097, 30: 9243.52995124112, 13: 19574.971189427328, 7: 221.03712550607287, 21: 361.67974537037065, 28: 26218.7912972973, 44: 13451.088676748572, 40: 294.5136088709679, 35: 79.63520833333334, 38: 51300.29969696968, 25: 143.93957894736843}\n",
      "{0: 7280.9450000000015, 1: 1551.6699999999998, 2: 3279.825, 3: 671.9650000000001, 4: 5220.060000000003, 5: 1087.5349999999999, 6: 2188.9100000000003, 7: 224.05999999999992, 8: 11725.835000000003, 9: 428.45000000000005, 10: 806.0599999999997, 11: 3928.329999999998, 12: 2767.2899999999986, 13: 19345.939999999995, 14: 1766.3299999999995, 15: 23.69, 16: 6478.350000000002, 17: 1299.2400000000002, 18: 5803.830000000004, 19: 551.46, 20: 945.3000000000002, 21: 363.355, 22: 10356.265000000007, 23: 4719.675000000002, 24: 2553.9500000000007, 25: 144.14000000000004, 26: 4299.25, 27: 2030.8700000000001, 28: 25568.730000000007, 29: 15744.750000000004, 30: 9225.985000000004, 31: 1374.62, 32: 737.5649999999998, 33: 3583.525000000001, 34: 607.6100000000002, 35: 79.99999999999997, 36: 2363.3099999999995, 37: 3010.0000000000023, 38: 43707.24999999999, 39: 1225.6399999999999, 40: 295.31499999999994, 41: 1015.5050000000002, 42: 1458.8850000000002, 43: 1157.2450000000001, 44: 13379.75, 45: 1655.6100000000001, 46: 495.6149999999999, 47: 1891.0749999999998, 48: 8205.605000000003, 49: 875.4199999999997}\n"
     ]
    }
   ],
   "source": [
    "cluster_aggs = defaultdict(lambda : [0.0, 0])\n",
    "for value, label in zip(np.exp(sample), clustering.labels_):\n",
    "    aggs = cluster_aggs[label]\n",
    "    aggs[0] += value\n",
    "    aggs[1] += 1\n",
    "\n",
    "label_means = {label: aggs[0]/aggs[1] for label, aggs in cluster_aggs.items()}\n",
    "if -1 in label_means:\n",
    "    del label_means[-1]\n",
    "print(label_means)\n",
    "\n",
    "cluster_partitioned = defaultdict(lambda: [])\n",
    "for value, label in zip(np.exp(sample), clustering.labels_):\n",
    "    cluster_partitioned[label].append(value)\n",
    "label_medians = {label: median(partition) for label, partition in cluster_partitioned.items()}\n",
    "\n",
    "if -1 in label_medians:\n",
    "    del label_medians[-1]\n",
    "#label_medians[0] = 0.\n",
    "print({key: label_medians[key] for key in sorted(label_medians.keys())})\n",
    "\n",
    "#medroid_keys = {cluster_id for cluster_id in clustering.labels_}\n",
    "#medroid_keys.remove(-1)\n",
    "#label_medoids = {cluster_id + 1: medoid[0] for cluster_id, medoid in zip(sorted(medroid_keys), clustering.medoids_)}\n",
    "#print(label_medoids)\n",
    "#label_medoids[0] = 0.\n",
    "#print(label_medoids)\n"
   ]
  },
  {
   "cell_type": "code",
   "execution_count": 45,
   "metadata": {},
   "outputs": [
    {
     "name": "stdout",
     "output_type": "stream",
     "text": [
      "50\n",
      "49\n",
      "50\n"
     ]
    }
   ],
   "source": [
    "print(len(label_medians))\n",
    "print(max(label_medians.keys()))\n",
    "print(len(label_means))"
   ]
  },
  {
   "cell_type": "code",
   "execution_count": 46,
   "metadata": {},
   "outputs": [
    {
     "data": {
      "text/plain": [
       "<Axes: ylabel='Count'>"
      ]
     },
     "execution_count": 46,
     "metadata": {},
     "output_type": "execute_result"
    },
    {
     "data": {
      "image/png": "[encoded data removed]",
      "text/plain": [
       "<Figure size 640x480 with 1 Axes>"
      ]
     },
     "metadata": {},
     "output_type": "display_data"
    }
   ],
   "source": [
    "quantised = [label_means[label] for label in clustering.labels_ if label != -1]\n",
    "sns.histplot(quantised)"
   ]
  },
  {
   "cell_type": "code",
   "execution_count": 48,
   "metadata": {},
   "outputs": [
    {
     "name": "stdout",
     "output_type": "stream",
     "text": [
      "80.49958261798244\n"
     ]
    }
   ],
   "source": [
    "train_response = train[\"loss\"]\n",
    "\n",
    "errors = []\n",
    "for response in train_response:\n",
    "    errors.append(min([abs(response - centre) for centre in label_medians.values()]))\n",
    "print(sum(errors) / len(errors))\n",
    "        "
   ]
  },
  {
   "cell_type": "markdown",
   "metadata": {},
   "source": [
    "# Build up the sparse representation\n"
   ]
  },
  {
   "cell_type": "code",
   "execution_count": 55,
   "metadata": {},
   "outputs": [],
   "source": [
    "sparse = df.clone()"
   ]
  },
  {
   "cell_type": "code",
   "execution_count": 57,
   "metadata": {},
   "outputs": [],
   "source": [
    "# Do something useful with model age - wrong dataset\n",
    "# sparse = sparse.with_columns((pl.col(\"Model_Year\") - pl.col(\"Calendar_Year\")).alias(\"Year_Delta\"))"
   ]
  },
  {
   "cell_type": "code",
   "execution_count": 58,
   "metadata": {},
   "outputs": [],
   "source": [
    "#sparse = sparse.drop(\"Household_ID\", \"Calendar_Year\", \"Model_Year\", \"Blind_Submodel\")"
   ]
  },
  {
   "cell_type": "code",
   "execution_count": 56,
   "metadata": {},
   "outputs": [],
   "source": [
    "medians = []\n",
    "for label in sorted(label_medians.keys()):\n",
    "    medians.append(label_medians[label])\n",
    "medians_ary = np.array(medians)\n",
    "\n",
    "def get_cluster(response: npt.NDArray):\n",
    "    errors = np.absolute((medians_ary - response))\n",
    "    return errors.argmin()\n",
    "cluster_ids = sparse[\"loss\"].map_elements(get_cluster, pl.Int32)\n",
    "sparse = pl.concat([sparse, cluster_ids.to_frame(\"Cluster_ID\")], how=\"horizontal\")"
   ]
  },
  {
   "cell_type": "code",
   "execution_count": 51,
   "metadata": {},
   "outputs": [],
   "source": [
    "clustered = cluster_ids.replace_strict(label_medians).to_frame(\"clustered\")\n",
    "compare = pl.concat([clustered, sparse[\"loss\"].to_frame()], how=\"horizontal\")\n",
    "compare = compare.with_columns((pl.col(\"clustered\") - pl.col(\"loss\")).alias(\"diff\"))"
   ]
  },
  {
   "cell_type": "code",
   "execution_count": 57,
   "metadata": {},
   "outputs": [],
   "source": [
    "sparse = sparse.to_dummies([cs.string(include_categorical=True)])"
   ]
  },
  {
   "cell_type": "code",
   "execution_count": 53,
   "metadata": {},
   "outputs": [
    {
     "name": "stdout",
     "output_type": "stream",
     "text": [
      "id, cat1_A, cat1_B, cat2_A, cat2_B, cat3_A, cat3_B, cat4_A, cat4_B, cat5_A, cat5_B, cat6_A, cat6_B, cat7_A, cat7_B, cat8_A, cat8_B, cat9_A, cat9_B, cat10_A, cat10_B, cat11_A, cat11_B, cat12_A, cat12_B, cat13_A, cat13_B, cat14_A, cat14_B, cat15_A, cat15_B, cat16_A, cat16_B, cat17_A, cat17_B, cat18_A, cat18_B, cat19_A, cat19_B, cat20_A, cat20_B, cat21_A, cat21_B, cat22_A, cat22_B, cat23_A, cat23_B, cat24_A, cat24_B, cat25_A, cat25_B, cat26_A, cat26_B, cat27_A, cat27_B, cat28_A, cat28_B, cat29_A, cat29_B, cat30_A, cat30_B, cat31_A, cat31_B, cat32_A, cat32_B, cat33_A, cat33_B, cat34_A, cat34_B, cat35_A, cat35_B, cat36_A, cat36_B, cat37_A, cat37_B, cat38_A, cat38_B, cat39_A, cat39_B, cat40_A, cat40_B, cat41_A, cat41_B, cat42_A, cat42_B, cat43_A, cat43_B, cat44_A, cat44_B, cat45_A, cat45_B, cat46_A, cat46_B, cat47_A, cat47_B, cat48_A, cat48_B, cat49_A, cat49_B, cat50_A, cat50_B, cat51_A, cat51_B, cat52_A, cat52_B, cat53_A, cat53_B, cat54_A, cat54_B, cat55_A, cat55_B, cat56_A, cat56_B, cat57_A, cat57_B, cat58_A, cat58_B, cat59_A, cat59_B, cat60_A, cat60_B, cat61_A, cat61_B, cat62_A, cat62_B, cat63_A, cat63_B, cat64_A, cat64_B, cat65_A, cat65_B, cat66_A, cat66_B, cat67_A, cat67_B, cat68_A, cat68_B, cat69_A, cat69_B, cat70_A, cat70_B, cat71_A, cat71_B, cat72_A, cat72_B, cat73_A, cat73_B, cat73_C, cat74_A, cat74_B, cat74_C, cat75_A, cat75_B, cat75_C, cat76_A, cat76_B, cat76_C, cat77_A, cat77_B, cat77_C, cat77_D, cat78_A, cat78_B, cat78_C, cat78_D, cat79_A, cat79_B, cat79_C, cat79_D, cat80_A, cat80_B, cat80_C, cat80_D, cat81_A, cat81_B, cat81_C, cat81_D, cat82_A, cat82_B, cat82_C, cat82_D, cat83_A, cat83_B, cat83_C, cat83_D, cat84_A, cat84_B, cat84_C, cat84_D, cat85_A, cat85_B, cat85_C, cat85_D, cat86_A, cat86_B, cat86_C, cat86_D, cat87_A, cat87_B, cat87_C, cat87_D, cat88_A, cat88_B, cat88_D, cat88_E, cat89_A, cat89_B, cat89_C, cat89_D, cat89_E, cat89_G, cat89_H, cat89_I, cat90_A, cat90_B, cat90_C, cat90_D, cat90_E, cat90_F, cat90_G, cat91_A, cat91_B, cat91_C, cat91_D, cat91_E, cat91_F, cat91_G, cat91_H, cat92_A, cat92_B, cat92_C, cat92_D, cat92_F, cat92_H, cat92_I, cat93_A, cat93_B, cat93_C, cat93_D, cat93_E, cat94_A, cat94_B, cat94_C, cat94_D, cat94_E, cat94_F, cat94_G, cat95_A, cat95_B, cat95_C, cat95_D, cat95_E, cat96_A, cat96_B, cat96_C, cat96_D, cat96_E, cat96_F, cat96_G, cat96_I, cat97_A, cat97_B, cat97_C, cat97_D, cat97_E, cat97_F, cat97_G, cat98_A, cat98_B, cat98_C, cat98_D, cat98_E, cat99_C, cat99_D, cat99_E, cat99_F, cat99_G, cat99_H, cat99_I, cat99_J, cat99_K, cat99_M, cat99_N, cat99_O, cat99_P, cat99_R, cat99_S, cat99_T, cat100_A, cat100_B, cat100_C, cat100_D, cat100_E, cat100_F, cat100_G, cat100_H, cat100_I, cat100_J, cat100_K, cat100_L, cat100_M, cat100_N, cat100_O, cat101_A, cat101_B, cat101_C, cat101_D, cat101_E, cat101_F, cat101_G, cat101_H, cat101_I, cat101_J, cat101_K, cat101_L, cat101_M, cat101_N, cat101_O, cat101_Q, cat101_R, cat101_S, cat101_U, cat102_A, cat102_B, cat102_C, cat102_D, cat102_E, cat102_F, cat102_G, cat102_H, cat102_J, cat103_A, cat103_B, cat103_C, cat103_D, cat103_E, cat103_F, cat103_G, cat103_H, cat103_I, cat103_J, cat103_K, cat103_L, cat103_N, cat104_A, cat104_B, cat104_C, cat104_D, cat104_E, cat104_F, cat104_G, cat104_H, cat104_I, cat104_J, cat104_K, cat104_L, cat104_M, cat104_N, cat104_O, cat104_P, cat104_Q, cat105_A, cat105_B, cat105_C, cat105_D, cat105_E, cat105_F, cat105_G, cat105_H, cat105_I, cat105_J, cat105_K, cat105_L, cat105_M, cat105_N, cat105_O, cat105_P, cat105_Q, cat105_R, cat105_S, cat105_T, cat106_A, cat106_B, cat106_C, cat106_D, cat106_E, cat106_F, cat106_G, cat106_H, cat106_I, cat106_J, cat106_K, cat106_L, cat106_M, cat106_N, cat106_O, cat106_P, cat106_R, cat107_A, cat107_B, cat107_C, cat107_D, cat107_E, cat107_F, cat107_G, cat107_H, cat107_I, cat107_J, cat107_K, cat107_L, cat107_M, cat107_N, cat107_O, cat107_P, cat107_Q, cat107_R, cat107_S, cat107_U, cat108_A, cat108_B, cat108_C, cat108_D, cat108_E, cat108_F, cat108_G, cat108_H, cat108_I, cat108_J, cat108_K, cat109_A, cat109_AA, cat109_AB, cat109_AE, cat109_AF, cat109_AG, cat109_AH, cat109_AI, cat109_AJ, cat109_AK, cat109_AL, cat109_AM, cat109_AN, cat109_AO, cat109_AP, cat109_AQ, cat109_AR, cat109_AS, cat109_AT, cat109_AU, cat109_AV, cat109_AW, cat109_AX, cat109_AY, cat109_B, cat109_BA, cat109_BB, cat109_BC, cat109_BD, cat109_BE, cat109_BF, cat109_BG, cat109_BH, cat109_BI, cat109_BJ, cat109_BK, cat109_BL, cat109_BM, cat109_BN, cat109_BO, cat109_BP, cat109_BQ, cat109_BR, cat109_BS, cat109_BT, cat109_BU, cat109_BV, cat109_BX, cat109_BY, cat109_C, cat109_CA, cat109_CB, cat109_CC, cat109_CD, cat109_CE, cat109_CF, cat109_CG, cat109_CH, cat109_CI, cat109_CJ, cat109_CK, cat109_CL, cat109_D, cat109_E, cat109_F, cat109_G, cat109_H, cat109_I, cat109_J, cat109_K, cat109_L, cat109_M, cat109_N, cat109_O, cat109_P, cat109_Q, cat109_R, cat109_S, cat109_T, cat109_U, cat109_V, cat109_X, cat109_Y, cat109_ZZ, cat110_A, cat110_AA, cat110_AB, cat110_AC, cat110_AD, cat110_AE, cat110_AF, cat110_AG, cat110_AH, cat110_AI, cat110_AJ, cat110_AK, cat110_AL, cat110_AM, cat110_AN, cat110_AO, cat110_AP, cat110_AR, cat110_AS, cat110_AT, cat110_AU, cat110_AV, cat110_AW, cat110_AX, cat110_AY, cat110_B, cat110_BA, cat110_BB, cat110_BC, cat110_BD, cat110_BE, cat110_BF, cat110_BG, cat110_BI, cat110_BJ, cat110_BK, cat110_BL, cat110_BM, cat110_BN, cat110_BO, cat110_BP, cat110_BQ, cat110_BR, cat110_BS, cat110_BT, cat110_BU, cat110_BV, cat110_BW, cat110_BX, cat110_BY, cat110_C, cat110_CB, cat110_CC, cat110_CD, cat110_CF, cat110_CG, cat110_CH, cat110_CI, cat110_CJ, cat110_CK, cat110_CL, cat110_CM, cat110_CN, cat110_CO, cat110_CP, cat110_CQ, cat110_CR, cat110_CS, cat110_CT, cat110_CU, cat110_CV, cat110_CW, cat110_CX, cat110_CY, cat110_D, cat110_DA, cat110_DB, cat110_DC, cat110_DD, cat110_DE, cat110_DF, cat110_DG, cat110_DH, cat110_DI, cat110_DJ, cat110_DK, cat110_DL, cat110_DM, cat110_DN, cat110_DO, cat110_DP, cat110_DQ, cat110_DR, cat110_DS, cat110_DT, cat110_DU, cat110_DV, cat110_DW, cat110_DX, cat110_DY, cat110_E, cat110_EA, cat110_EB, cat110_ED, cat110_EE, cat110_EF, cat110_EG, cat110_EH, cat110_EI, cat110_EJ, cat110_EK, cat110_EL, cat110_EM, cat110_G, cat110_H, cat110_I, cat110_J, cat110_K, cat110_L, cat110_N, cat110_O, cat110_P, cat110_Q, cat110_R, cat110_S, cat110_T, cat110_U, cat110_V, cat110_W, cat110_X, cat110_Y, cat111_A, cat111_B, cat111_C, cat111_D, cat111_E, cat111_F, cat111_G, cat111_I, cat111_K, cat111_M, cat111_O, cat111_Q, cat111_S, cat111_U, cat111_W, cat111_Y, cat112_A, cat112_AA, cat112_AB, cat112_AC, cat112_AD, cat112_AE, cat112_AF, cat112_AG, cat112_AH, cat112_AI, cat112_AJ, cat112_AK, cat112_AL, cat112_AM, cat112_AN, cat112_AO, cat112_AP, cat112_AQ, cat112_AR, cat112_AS, cat112_AT, cat112_AU, cat112_AV, cat112_AW, cat112_AX, cat112_AY, cat112_B, cat112_BA, cat112_C, cat112_D, cat112_E, cat112_F, cat112_G, cat112_H, cat112_I, cat112_J, cat112_K, cat112_L, cat112_M, cat112_N, cat112_O, cat112_P, cat112_Q, cat112_R, cat112_S, cat112_T, cat112_U, cat112_V, cat112_W, cat112_X, cat112_Y, cat113_A, cat113_AB, cat113_AC, cat113_AD, cat113_AE, cat113_AF, cat113_AG, cat113_AH, cat113_AI, cat113_AJ, cat113_AK, cat113_AL, cat113_AM, cat113_AN, cat113_AO, cat113_AP, cat113_AQ, cat113_AR, cat113_AS, cat113_AT, cat113_AU, cat113_AV, cat113_AW, cat113_AX, cat113_AY, cat113_B, cat113_BA, cat113_BB, cat113_BC, cat113_BD, cat113_BE, cat113_BF, cat113_BG, cat113_BH, cat113_BI, cat113_BJ, cat113_BK, cat113_BL, cat113_BM, cat113_BN, cat113_BO, cat113_C, cat113_E, cat113_F, cat113_G, cat113_H, cat113_I, cat113_J, cat113_K, cat113_L, cat113_M, cat113_N, cat113_O, cat113_P, cat113_Q, cat113_S, cat113_T, cat113_U, cat113_V, cat113_X, cat113_Y, cat114_A, cat114_B, cat114_C, cat114_D, cat114_E, cat114_F, cat114_G, cat114_I, cat114_J, cat114_L, cat114_N, cat114_O, cat114_Q, cat114_R, cat114_S, cat114_U, cat114_V, cat114_W, cat114_X, cat115_A, cat115_B, cat115_C, cat115_D, cat115_E, cat115_F, cat115_G, cat115_H, cat115_I, cat115_J, cat115_K, cat115_L, cat115_M, cat115_N, cat115_O, cat115_P, cat115_Q, cat115_R, cat115_S, cat115_T, cat115_U, cat115_W, cat115_X, cat116_AA, cat116_AB, cat116_AC, cat116_AD, cat116_AE, cat116_AF, cat116_AG, cat116_AH, cat116_AJ, cat116_AK, cat116_AL, cat116_AM, cat116_AN, cat116_AO, cat116_AP, cat116_AR, cat116_AS, cat116_AT, cat116_AU, cat116_AV, cat116_AW, cat116_AX, cat116_AY, cat116_B, cat116_BA, cat116_BB, cat116_BC, cat116_BD, cat116_BF, cat116_BG, cat116_BI, cat116_BK, cat116_BL, cat116_BM, cat116_BO, cat116_BP, cat116_BQ, cat116_BS, cat116_BT, cat116_BU, cat116_BV, cat116_BW, cat116_BX, cat116_BY, cat116_C, cat116_CA, cat116_CB, cat116_CC, cat116_CD, cat116_CE, cat116_CF, cat116_CG, cat116_CH, cat116_CI, cat116_CJ, cat116_CK, cat116_CL, cat116_CM, cat116_CN, cat116_CO, cat116_CP, cat116_CQ, cat116_CR, cat116_CS, cat116_CT, cat116_CU, cat116_CV, cat116_CW, cat116_CX, cat116_CY, cat116_D, cat116_DA, cat116_DC, cat116_DD, cat116_DE, cat116_DF, cat116_DG, cat116_DH, cat116_DI, cat116_DJ, cat116_DK, cat116_DL, cat116_DM, cat116_DN, cat116_DO, cat116_DP, cat116_DQ, cat116_DR, cat116_DS, cat116_DT, cat116_DU, cat116_DV, cat116_DW, cat116_DX, cat116_DY, cat116_E, cat116_EA, cat116_EB, cat116_EC, cat116_ED, cat116_EE, cat116_EF, cat116_EG, cat116_EH, cat116_EI, cat116_EJ, cat116_EK, cat116_EL, cat116_EN, cat116_EO, cat116_EP, cat116_EQ, cat116_ES, cat116_EU, cat116_EV, cat116_EW, cat116_EY, cat116_F, cat116_FA, cat116_FB, cat116_FC, cat116_FD, cat116_FE, cat116_FF, cat116_FG, cat116_FH, cat116_FI, cat116_FJ, cat116_FK, cat116_FL, cat116_FM, cat116_FN, cat116_FO, cat116_FP, cat116_FQ, cat116_FR, cat116_FS, cat116_FT, cat116_FU, cat116_FV, cat116_FW, cat116_FX, cat116_G, cat116_GA, cat116_GB, cat116_GC, cat116_GD, cat116_GE, cat116_GF, cat116_GG, cat116_GH, cat116_GI, cat116_GJ, cat116_GK, cat116_GL, cat116_GM, cat116_GN, cat116_GO, cat116_GP, cat116_GQ, cat116_GR, cat116_GS, cat116_GT, cat116_GU, cat116_GV, cat116_GW, cat116_GX, cat116_GY, cat116_H, cat116_HA, cat116_HB, cat116_HC, cat116_HD, cat116_HE, cat116_HF, cat116_HG, cat116_HH, cat116_HI, cat116_HJ, cat116_HK, cat116_HL, cat116_HM, cat116_HN, cat116_HO, cat116_HP, cat116_HQ, cat116_HR, cat116_HT, cat116_HU, cat116_HV, cat116_HW, cat116_HX, cat116_HY, cat116_I, cat116_IA, cat116_IB, cat116_IC, cat116_ID, cat116_IE, cat116_IF, cat116_IG, cat116_IH, cat116_II, cat116_IJ, cat116_IK, cat116_IL, cat116_IM, cat116_IN, cat116_IO, cat116_IP, cat116_IQ, cat116_IR, cat116_IT, cat116_IU, cat116_IV, cat116_IX, cat116_IY, cat116_J, cat116_JA, cat116_JB, cat116_JC, cat116_JD, cat116_JE, cat116_JF, cat116_JG, cat116_JH, cat116_JI, cat116_JJ, cat116_JK, cat116_JL, cat116_JM, cat116_JN, cat116_JO, cat116_JP, cat116_JQ, cat116_JR, cat116_JT, cat116_JU, cat116_JV, cat116_JW, cat116_JX, cat116_JY, cat116_K, cat116_KA, cat116_KB, cat116_KC, cat116_KD, cat116_KE, cat116_KF, cat116_KG, cat116_KH, cat116_KI, cat116_KJ, cat116_KK, cat116_KL, cat116_KM, cat116_KN, cat116_KP, cat116_KQ, cat116_KR, cat116_KS, cat116_KT, cat116_KU, cat116_KV, cat116_KW, cat116_KX, cat116_KY, cat116_L, cat116_LA, cat116_LB, cat116_LC, cat116_LD, cat116_LE, cat116_LF, cat116_LG, cat116_LH, cat116_LI, cat116_LJ, cat116_LK, cat116_LL, cat116_LM, cat116_LN, cat116_LO, cat116_LQ, cat116_LR, cat116_LT, cat116_LU, cat116_LV, cat116_LW, cat116_LX, cat116_LY, cat116_M, cat116_MA, cat116_MB, cat116_MC, cat116_MD, cat116_ME, cat116_MF, cat116_MG, cat116_MH, cat116_MI, cat116_MJ, cat116_MK, cat116_ML, cat116_MM, cat116_MN, cat116_MO, cat116_MP, cat116_MQ, cat116_MR, cat116_MS, cat116_MT, cat116_MU, cat116_MV, cat116_MW, cat116_O, cat116_P, cat116_Q, cat116_R, cat116_S, cat116_T, cat116_U, cat116_V, cat116_W, cat116_X, cat116_Y, cont1, cont2, cont3, cont4, cont5, cont6, cont7, cont8, cont9, cont10, cont11, cont12, cont13, cont14, loss, Cluster_ID, "
     ]
    }
   ],
   "source": [
    "for col in sparse.columns:\n",
    "    print(col, end=', ')"
   ]
  },
  {
   "cell_type": "code",
   "execution_count": 60,
   "metadata": {},
   "outputs": [],
   "source": [
    "train, validation = sparse.with_columns((pl.col(\"id\") % sample_modulo == 0).alias(\"split\")).partition_by(\"split\", include_key=False)\n",
    "train = train.drop(\"id\")\n",
    "validation = validation.drop(\"id\")"
   ]
  },
  {
   "cell_type": "code",
   "execution_count": 61,
   "metadata": {},
   "outputs": [],
   "source": [
    "cluster_ids, cluster_vals = zip(* label_medians.items())\n",
    "clusters_df = pl.DataFrame({\"cluster_id\": cluster_ids, \"cluster_value\": cluster_vals})\n",
    "clusters_df.write_parquet(\"data/clusters.parquet\")\n",
    "train.write_parquet(\"data/rs_train.parquet\")\n",
    "validation.write_parquet(\"data/rs_validation.parquet\")"
   ]
  },
  {
   "cell_type": "markdown",
   "metadata": {},
   "source": [
    "# Validating poly learn"
   ]
  },
  {
   "cell_type": "code",
   "execution_count": 144,
   "metadata": {},
   "outputs": [],
   "source": [
    "iter0_samples = pl.read_parquet(\"exp1/samples.parquet\")\n",
    "iter0_features = iter0_samples.drop([\"loss\", \"Cluster_ID\"]).to_numpy()\n",
    "iter0_features = np.concatenate([iter0_features, np.ones([len(iter0_features), 1])], dtype=\"float64\", axis=1)\n",
    "iter0_response = iter0_samples[\"loss\"].to_numpy()\n",
    "dim = iter0_features.shape[1]\n",
    "states_out = pl.read_parquet(\"exp1/states_out/states.parquet\")\n",
    "clusters_parquet = pl.read_parquet(\"data/clusters.parquet\")\n",
    "iter0_clusters_dict = dict(zip(clusters_parquet[\"cluster_id\"], clusters_parquet[\"cluster_value\"]))\n",
    "iter0_clusters = np.array([iter0_clusters_dict[cl_ind] for cl_ind in sorted(iter0_clusters_dict.keys())])\n",
    "with open(\"exp1/projection_dump.json\") as proj_file:\n",
    "    projection = np.array(json.load(proj_file))\n",
    "    projection = np.reshape(projection.transpose(), [-1, dim, projection.shape[0]])"
   ]
  },
  {
   "cell_type": "code",
   "execution_count": 145,
   "metadata": {},
   "outputs": [
    {
     "data": {
      "text/plain": [
       "array([[-0.82508839,  0.92549659,  0.20769747, ...,  1.43133789,\n",
       "        -2.04328083, -0.94309212],\n",
       "       [-0.33692508, -0.10736684, -0.90494529, ...,  1.31673723,\n",
       "        -0.65562332, -0.49028576],\n",
       "       [ 0.02485596,  0.66936008,  0.109336  , ...,  1.55024276,\n",
       "        -1.27658971,  3.57772224],\n",
       "       ...,\n",
       "       [-0.43590425, -1.19828938,  0.5546638 , ..., -0.22269218,\n",
       "        -0.32081998, -1.73759513],\n",
       "       [-0.43359609,  0.60300083,  0.99080585, ...,  0.6742367 ,\n",
       "        -0.3080414 , -0.26910392],\n",
       "       [-1.32038093,  1.40004152,  0.02720965, ..., -1.67123744,\n",
       "        -0.35114639,  0.60270582]])"
      ]
     },
     "execution_count": 145,
     "metadata": {},
     "output_type": "execute_result"
    }
   ],
   "source": [
    "projection[:, :, 99]"
   ]
  },
  {
   "cell_type": "code",
   "execution_count": 146,
   "metadata": {},
   "outputs": [],
   "source": [
    "initial_rs_param = np.zeros([projection.shape[-1]])\n",
    "initial_rs_param[-1] = 1\n",
    "def update_params(rs_param: npt.NDArray[np.float64], features: npt.NDArray[np.float64]):\n",
    "    updated = projection @ rs_param\n",
    "    #print(updated.shape)\n",
    "    scores = features @ updated.transpose()\n",
    "    #print(scores.shape)\n",
    "    maximised = scores.argmax(axis=1)\n",
    "    print(maximised)\n",
    "    return maximised"
   ]
  },
  {
   "cell_type": "code",
   "execution_count": 147,
   "metadata": {},
   "outputs": [],
   "source": [
    "def compute_mae(decomp: npt.NDArray[np.int32]):\n",
    "    return np.abs(response - iter0_clusters[decomp]).mean()\n",
    "#print(compute_mae(maximised))"
   ]
  },
  {
   "cell_type": "code",
   "execution_count": 148,
   "metadata": {},
   "outputs": [
    {
     "name": "stdout",
     "output_type": "stream",
     "text": [
      "float64\n",
      "5423.5759499999995\n",
      "5418.9346\n",
      "5416.7880000000005\n",
      "5416.7880000000005\n",
      "5427.07565\n",
      "5422.87885\n",
      "5427.731650000001\n",
      "5410.818200000001\n",
      "5430.81775\n",
      "5406.778400000001\n",
      "5397.4552\n",
      "5473.2144\n",
      "5608.4608499999995\n",
      "5598.173200000001\n",
      "5588.1636\n",
      "5595.5278\n",
      "5576.5532\n",
      "5604.96115\n",
      "5607.7759\n",
      "5568.639749999999\n",
      "5612.202949999999\n",
      "5595.104200000001\n",
      "5602.858149999999\n",
      "5858.245\n",
      "5841.705849999999\n",
      "5862.449250000001\n",
      "5740.87255\n",
      "5812.10625\n",
      "5812.76225\n",
      "5744.58175\n",
      "5813.5311\n",
      "5811.429749999999\n",
      "5751.0668\n",
      "5812.1137\n",
      "5789.231\n",
      "5799.173200000001\n",
      "5756.192150000001\n",
      "5813.531100000001\n",
      "5758.32555\n",
      "5758.32555\n",
      "5820.0526\n",
      "5760.23195\n",
      "5821.4455499999995\n",
      "5761.97595\n",
      "5761.97595\n",
      "5761.97595\n",
      "5751.0668\n",
      "5753.76505\n",
      "5764.954299999999\n",
      "5765.69635\n",
      "5766.20175\n",
      "5768.348349999999\n",
      "5769.2762\n",
      "5770.11885\n",
      "5770.7056\n",
      "5770.87265\n",
      "5770.87265\n",
      "5770.87265\n",
      "5795.42535\n",
      "5771.60865\n",
      "5817.2413\n",
      "5772.0669\n",
      "5082.0844\n",
      "5066.02115\n",
      "5063.87455\n",
      "5059.233200000001\n",
      "5059.233200000001\n",
      "5069.52085\n",
      "5069.9654\n",
      "5057.0866000000005\n",
      "5070.176850000001\n",
      "5067.374250000001\n",
      "5067.374250000001\n",
      "5063.17745\n",
      "5077.6619\n",
      "5068.03025\n",
      "5073.4651\n",
      "5053.2634\n",
      "5074.1211\n",
      "5051.116800000001\n",
      "5077.9043\n",
      "5057.20765\n",
      "5053.86495\n",
      "5049.2236\n",
      "4724.5296\n",
      "4717.9605\n",
      "4722.383000000001\n",
      "4728.24815\n",
      "4732.67065\n",
      "4728.47385\n",
      "4720.1071\n",
      "4707.67285\n",
      "4717.9605\n",
      "4713.7636999999995\n",
      "4724.05135\n",
      "4696.31015\n",
      "4694.16355\n",
      "4689.5222\n",
      "4689.522200000001\n",
      "4699.809850000001\n",
      "4721.05165\n",
      "4700.254400000001\n",
      "4687.3756\n",
      "4700.4658500000005\n"
     ]
    }
   ],
   "source": [
    "states = pl.read_parquet(\"exp1/states_out/states.parquet\").to_numpy()\n",
    "print(states.dtype)\n",
    "filtered = [s for s in states if s[-1] > 0]\n",
    "\n",
    "for state in filtered:\n",
    "    updated_params = update_params(state, iter0_features)\n",
    "    print(compute_mae(updated_params))"
   ]
  },
  {
   "cell_type": "code",
   "execution_count": 141,
   "metadata": {},
   "outputs": [
    {
     "name": "stdout",
     "output_type": "stream",
     "text": [
      "3631.5657000000006\n"
     ]
    }
   ],
   "source": [
    "big_np = train.to_numpy()\n",
    "updated_params = update_params(state, iter0_features)\n",
    "print(compute_mae(updated_params))"
   ]
  }
 ],
 "metadata": {
  "kernelspec": {
   "display_name": "reverse_search",
   "language": "python",
   "name": "python3"
  },
  "language_info": {
   "codemirror_mode": {
    "name": "ipython",
    "version": 3
   },
   "file_extension": ".py",
   "mimetype": "text/x-python",
   "name": "python",
   "nbconvert_exporter": "python",
   "pygments_lexer": "ipython3",
   "version": "3.12.3"
  }
 },
 "nbformat": 4,
 "nbformat_minor": 2
}
